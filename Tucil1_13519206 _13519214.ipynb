{
 "cells": [
  {
   "cell_type": "markdown",
   "id": "c51afc12",
   "metadata": {},
   "source": [
    "# Tugas Kecil 1\n",
    "## Eksplorasi library Decision Tree Learning pada Jupyter Notebook\n",
    "### Anggota\n",
    "1. 13519206 - Muhammad Fawwaz Naabigh\n",
    "2. 13519214 - Tanur Rizaldi Rahardjo"
   ]
  },
  {
   "cell_type": "code",
   "execution_count": 55,
   "id": "a08efb70",
   "metadata": {},
   "outputs": [],
   "source": [
    "# import libraries\n",
    "import pandas as pd\n",
    "from sklearn import datasets\n",
    "from sklearn.model_selection import train_test_split\n",
    "from sklearn.preprocessing import LabelEncoder"
   ]
  },
  {
   "cell_type": "code",
   "execution_count": 56,
   "id": "fb40a80f",
   "metadata": {},
   "outputs": [],
   "source": [
    "# load breast cancer dataset\n",
    "breast_cancer = datasets.load_breast_cancer()\n",
    "# create dataframe\n",
    "df_bc = pd.DataFrame(breast_cancer.data, columns=breast_cancer.feature_names)\n",
    "df_bc['target'] = breast_cancer.target\n",
    "\n",
    "# Separate feature and target\n",
    "X_bc = df_bc.iloc[:, :-1]\n",
    "y_bc = df_bc['target']"
   ]
  },
  {
   "cell_type": "code",
   "execution_count": 61,
   "id": "cce5c365",
   "metadata": {},
   "outputs": [],
   "source": [
    "# read play tennis dataframe\n",
    "df_pt = pd.read_csv(\"play_tennis.csv\")\n",
    "\n",
    "le = LabelEncoder()\n",
    "\n",
    "for column in df_pt.columns:\n",
    "    df_pt[column] = le.fit_transform(df_pt[column])\n",
    "\n",
    "X_pt = df_pt.iloc[:, :-1]\n",
    "y_pt = df_pt.iloc[:, -1]"
   ]
  },
  {
   "cell_type": "code",
   "execution_count": 95,
   "id": "abd82dc9",
   "metadata": {},
   "outputs": [],
   "source": [
    "# split dataset to 80% training and 20% testing data\n",
    "X_bc_train, X_bc_test, y_bc_train, y_bc_test = train_test_split(X_bc, y_bc, test_size=0.2, random_state=420)\n",
    "X_pt_train, X_pt_test, y_pt_train, y_pt_test = train_test_split(X_pt, y_pt, test_size=0.2, random_state=420)"
   ]
  },
  {
   "cell_type": "code",
   "execution_count": 102,
   "id": "a5c586f6",
   "metadata": {},
   "outputs": [],
   "source": [
    "from sklearn.metrics import accuracy_score, f1_score\n",
    "def train_and_predict(model, X_train, y_train, X_test):\n",
    "    model = model.fit(X_train, y_train)\n",
    "    y_pred = model.predict(X_test)\n",
    "    return y_pred\n",
    "\n",
    "def get_all_score(model, X_train, y_train, X_test, y_test):\n",
    "    y_pred = train_and_predict(model, X_train, y_train, X_test)\n",
    "    return [accuracy_score(y_test, y_pred), f1_score(y_test, y_pred, average='micro')]"
   ]
  },
  {
   "cell_type": "markdown",
   "id": "de3bc80b",
   "metadata": {},
   "source": [
    "##### a. DecisionTreeClassifier "
   ]
  },
  {
   "cell_type": "code",
   "execution_count": 106,
   "id": "fcbe8b24",
   "metadata": {},
   "outputs": [],
   "source": [
    "from sklearn import tree\n",
    "from sklearn.metrics import accuracy_score, f1_score\n",
    "\n",
    "# load model\n",
    "clf1 = tree.DecisionTreeClassifier()\n",
    "clf2 = tree.DecisionTreeClassifier()\n",
    "\n",
    "bc_dtl_scores = get_all_score(clf1, X_bc_train, y_bc_train, X_bc_test,  y_bc_test)\n",
    "pt_dtl_scores = get_all_score(clf2, X_pt_train, y_pt_train, X_pt_test,  y_pt_test)"
   ]
  },
  {
   "cell_type": "markdown",
   "id": "c49077cb",
   "metadata": {},
   "source": [
    "##### b. Id3Estimator"
   ]
  },
  {
   "cell_type": "code",
   "execution_count": 107,
   "id": "e9e75a67",
   "metadata": {},
   "outputs": [],
   "source": [
    "import six\n",
    "import sys\n",
    "sys.modules['sklearn.externals.six'] = six\n",
    "from id3 import Id3Estimator\n",
    "from id3 import export_graphviz\n",
    "\n",
    "estimator1 = Id3Estimator()\n",
    "estimator2 = Id3Estimator()\n",
    "\n",
    "bc_id3_scores = get_all_score(estimator1, X_bc_train, y_bc_train, X_bc_test,  y_bc_test)\n",
    "pt_id3_scores = get_all_score(estimator2, X_pt_train, y_pt_train, X_pt_test,  y_pt_test)"
   ]
  },
  {
   "cell_type": "markdown",
   "id": "38602aff",
   "metadata": {},
   "source": [
    "##### c. KMeans"
   ]
  },
  {
   "cell_type": "code",
   "execution_count": 125,
   "id": "e511769b",
   "metadata": {},
   "outputs": [],
   "source": [
    "from sklearn.cluster import KMeans\n",
    "\n",
    "kmeans1 = KMeans()\n",
    "kmeans2 = KMeans()\n",
    "\n",
    "bc_kmeans_scores = get_all_score(kmeans1, X_bc_train, y_bc_train, X_bc_test,  y_bc_test)\n",
    "pt_kmeans_scores = get_all_score(kmeans2, X_pt_train, y_pt_train, X_pt_test,  y_pt_test)"
   ]
  },
  {
   "cell_type": "markdown",
   "id": "5daadca4",
   "metadata": {},
   "source": [
    "###### d. LogisticRegression "
   ]
  },
  {
   "cell_type": "code",
   "execution_count": 113,
   "id": "b7d92673",
   "metadata": {},
   "outputs": [
    {
     "name": "stderr",
     "output_type": "stream",
     "text": [
      "C:\\Users\\fnaab\\AppData\\Local\\Packages\\PythonSoftwareFoundation.Python.3.7_qbz5n2kfra8p0\\LocalCache\\local-packages\\Python37\\site-packages\\sklearn\\linear_model\\_logistic.py:818: ConvergenceWarning: lbfgs failed to converge (status=1):\n",
      "STOP: TOTAL NO. of ITERATIONS REACHED LIMIT.\n",
      "\n",
      "Increase the number of iterations (max_iter) or scale the data as shown in:\n",
      "    https://scikit-learn.org/stable/modules/preprocessing.html\n",
      "Please also refer to the documentation for alternative solver options:\n",
      "    https://scikit-learn.org/stable/modules/linear_model.html#logistic-regression\n",
      "  extra_warning_msg=_LOGISTIC_SOLVER_CONVERGENCE_MSG,\n"
     ]
    }
   ],
   "source": [
    "from sklearn.linear_model import LogisticRegression\n",
    "\n",
    "logres1 = LogisticRegression(max_iter=200)\n",
    "logres2 = LogisticRegression(max_iter=200)\n",
    "\n",
    "bc_logres_scores = get_all_score(logres1, X_bc_train, y_bc_train, X_bc_test,  y_bc_test)\n",
    "pt_logres_scores = get_all_score(logres2, X_pt_train, y_pt_train, X_pt_test,  y_pt_test)"
   ]
  },
  {
   "cell_type": "markdown",
   "id": "79e51d47",
   "metadata": {},
   "source": [
    "##### e. Neural Network"
   ]
  },
  {
   "cell_type": "code",
   "execution_count": 117,
   "id": "e1cec810",
   "metadata": {},
   "outputs": [
    {
     "name": "stderr",
     "output_type": "stream",
     "text": [
      "C:\\Users\\fnaab\\AppData\\Local\\Packages\\PythonSoftwareFoundation.Python.3.7_qbz5n2kfra8p0\\LocalCache\\local-packages\\Python37\\site-packages\\sklearn\\neural_network\\_multilayer_perceptron.py:696: ConvergenceWarning: Stochastic Optimizer: Maximum iterations (200) reached and the optimization hasn't converged yet.\n",
      "  ConvergenceWarning,\n"
     ]
    }
   ],
   "source": [
    "from sklearn.neural_network import MLPClassifier\n",
    "\n",
    "mpl1 = MLPClassifier()\n",
    "mpl2 = MLPClassifier()\n",
    "\n",
    "bc_mpl_scores = get_all_score(mpl1, X_bc_train, y_bc_train, X_bc_test,  y_bc_test)\n",
    "pt_mpl_scores = get_all_score(mpl2, X_pt_train, y_pt_train, X_pt_test,  y_pt_test)"
   ]
  },
  {
   "cell_type": "markdown",
   "id": "84148831",
   "metadata": {},
   "source": [
    "##### f. SVM"
   ]
  },
  {
   "cell_type": "code",
   "execution_count": 120,
   "id": "60173bdf",
   "metadata": {},
   "outputs": [],
   "source": [
    "from sklearn.svm import SVC\n",
    "\n",
    "svc1 = SVC()\n",
    "svc2 = SVC()\n",
    "\n",
    "bc_svc_scores = get_all_score(svc1, X_bc_train, y_bc_train, X_bc_test,  y_bc_test)\n",
    "pt_svc_scores = get_all_score(svc2, X_pt_train, y_pt_train, X_pt_test,  y_pt_test)"
   ]
  },
  {
   "cell_type": "markdown",
   "id": "492156ef",
   "metadata": {},
   "source": [
    "#### Analisis Score"
   ]
  },
  {
   "cell_type": "code",
   "execution_count": 130,
   "id": "6f6a2c29",
   "metadata": {},
   "outputs": [],
   "source": [
    "index = [\n",
    "    'decission tree',\n",
    "    'id3',\n",
    "    'KMeans',\n",
    "    'Logistic Regression',\n",
    "    'Neural Network',\n",
    "    'SVC'\n",
    "]\n",
    "\n",
    "columns = ['accuracy', 'f1']"
   ]
  },
  {
   "cell_type": "code",
   "execution_count": 132,
   "id": "4efa9a4e",
   "metadata": {},
   "outputs": [],
   "source": [
    "data_bc = [\n",
    "    bc_dtl_scores,\n",
    "    bc_id3_scores,\n",
    "    bc_kmeans_scores,\n",
    "    bc_logres_scores,\n",
    "    bc_mpl_scores,\n",
    "    bc_svc_scores\n",
    "]\n",
    "\n",
    "\n",
    "df_scores_bc = pd.DataFrame(data=data_bc, index=index, columns=columns)"
   ]
  },
  {
   "cell_type": "code",
   "execution_count": 133,
   "id": "24c5cddd",
   "metadata": {},
   "outputs": [],
   "source": [
    "data_pt = [\n",
    "    pt_dtl_scores,\n",
    "    pt_id3_scores,\n",
    "    pt_kmeans_scores,\n",
    "    pt_logres_scores,\n",
    "    pt_mpl_scores,\n",
    "    pt_svc_scores\n",
    "]\n",
    "\n",
    "\n",
    "df_scores_pt = pd.DataFrame(data=data_pt, index=index, columns=columns)"
   ]
  },
  {
   "cell_type": "code",
   "execution_count": 134,
   "id": "784332f8",
   "metadata": {},
   "outputs": [
    {
     "data": {
      "text/html": [
       "<div>\n",
       "<style scoped>\n",
       "    .dataframe tbody tr th:only-of-type {\n",
       "        vertical-align: middle;\n",
       "    }\n",
       "\n",
       "    .dataframe tbody tr th {\n",
       "        vertical-align: top;\n",
       "    }\n",
       "\n",
       "    .dataframe thead th {\n",
       "        text-align: right;\n",
       "    }\n",
       "</style>\n",
       "<table border=\"1\" class=\"dataframe\">\n",
       "  <thead>\n",
       "    <tr style=\"text-align: right;\">\n",
       "      <th></th>\n",
       "      <th>accuracy</th>\n",
       "      <th>f1</th>\n",
       "    </tr>\n",
       "  </thead>\n",
       "  <tbody>\n",
       "    <tr>\n",
       "      <th>decission tree</th>\n",
       "      <td>0.912281</td>\n",
       "      <td>0.912281</td>\n",
       "    </tr>\n",
       "    <tr>\n",
       "      <th>id3</th>\n",
       "      <td>0.921053</td>\n",
       "      <td>0.921053</td>\n",
       "    </tr>\n",
       "    <tr>\n",
       "      <th>KMeans</th>\n",
       "      <td>0.096491</td>\n",
       "      <td>0.096491</td>\n",
       "    </tr>\n",
       "    <tr>\n",
       "      <th>Logistic Regression</th>\n",
       "      <td>0.947368</td>\n",
       "      <td>0.947368</td>\n",
       "    </tr>\n",
       "    <tr>\n",
       "      <th>Neural Network</th>\n",
       "      <td>0.921053</td>\n",
       "      <td>0.921053</td>\n",
       "    </tr>\n",
       "    <tr>\n",
       "      <th>SVC</th>\n",
       "      <td>0.921053</td>\n",
       "      <td>0.921053</td>\n",
       "    </tr>\n",
       "  </tbody>\n",
       "</table>\n",
       "</div>"
      ],
      "text/plain": [
       "                     accuracy        f1\n",
       "decission tree       0.912281  0.912281\n",
       "id3                  0.921053  0.921053\n",
       "KMeans               0.096491  0.096491\n",
       "Logistic Regression  0.947368  0.947368\n",
       "Neural Network       0.921053  0.921053\n",
       "SVC                  0.921053  0.921053"
      ]
     },
     "execution_count": 134,
     "metadata": {},
     "output_type": "execute_result"
    }
   ],
   "source": [
    "df_scores_bc"
   ]
  },
  {
   "cell_type": "code",
   "execution_count": 135,
   "id": "7bb01708",
   "metadata": {},
   "outputs": [
    {
     "data": {
      "text/html": [
       "<div>\n",
       "<style scoped>\n",
       "    .dataframe tbody tr th:only-of-type {\n",
       "        vertical-align: middle;\n",
       "    }\n",
       "\n",
       "    .dataframe tbody tr th {\n",
       "        vertical-align: top;\n",
       "    }\n",
       "\n",
       "    .dataframe thead th {\n",
       "        text-align: right;\n",
       "    }\n",
       "</style>\n",
       "<table border=\"1\" class=\"dataframe\">\n",
       "  <thead>\n",
       "    <tr style=\"text-align: right;\">\n",
       "      <th></th>\n",
       "      <th>accuracy</th>\n",
       "      <th>f1</th>\n",
       "    </tr>\n",
       "  </thead>\n",
       "  <tbody>\n",
       "    <tr>\n",
       "      <th>decission tree</th>\n",
       "      <td>0.333333</td>\n",
       "      <td>0.333333</td>\n",
       "    </tr>\n",
       "    <tr>\n",
       "      <th>id3</th>\n",
       "      <td>0.333333</td>\n",
       "      <td>0.333333</td>\n",
       "    </tr>\n",
       "    <tr>\n",
       "      <th>KMeans</th>\n",
       "      <td>0.000000</td>\n",
       "      <td>0.000000</td>\n",
       "    </tr>\n",
       "    <tr>\n",
       "      <th>Logistic Regression</th>\n",
       "      <td>0.333333</td>\n",
       "      <td>0.333333</td>\n",
       "    </tr>\n",
       "    <tr>\n",
       "      <th>Neural Network</th>\n",
       "      <td>0.333333</td>\n",
       "      <td>0.333333</td>\n",
       "    </tr>\n",
       "    <tr>\n",
       "      <th>SVC</th>\n",
       "      <td>0.333333</td>\n",
       "      <td>0.333333</td>\n",
       "    </tr>\n",
       "  </tbody>\n",
       "</table>\n",
       "</div>"
      ],
      "text/plain": [
       "                     accuracy        f1\n",
       "decission tree       0.333333  0.333333\n",
       "id3                  0.333333  0.333333\n",
       "KMeans               0.000000  0.000000\n",
       "Logistic Regression  0.333333  0.333333\n",
       "Neural Network       0.333333  0.333333\n",
       "SVC                  0.333333  0.333333"
      ]
     },
     "execution_count": 135,
     "metadata": {},
     "output_type": "execute_result"
    }
   ],
   "source": [
    "df_scores_pt"
   ]
  },
  {
   "cell_type": "code",
   "execution_count": null,
   "id": "6704a7c7",
   "metadata": {},
   "outputs": [],
   "source": []
  }
 ],
 "metadata": {
  "kernelspec": {
   "display_name": "Python 3 (ipykernel)",
   "language": "python",
   "name": "python3"
  },
  "language_info": {
   "codemirror_mode": {
    "name": "ipython",
    "version": 3
   },
   "file_extension": ".py",
   "mimetype": "text/x-python",
   "name": "python",
   "nbconvert_exporter": "python",
   "pygments_lexer": "ipython3",
   "version": "3.7.9"
  }
 },
 "nbformat": 4,
 "nbformat_minor": 5
}
