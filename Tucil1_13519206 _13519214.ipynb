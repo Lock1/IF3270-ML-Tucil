{
 "cells": [
  {
   "cell_type": "markdown",
   "id": "c51afc12",
   "metadata": {},
   "source": [
    "# Tugas Kecil 1\n",
    "## Eksplorasi library Decision Tree Learning pada Jupyter Notebook\n",
    "### Anggota\n",
    "1. 13519206 - Muhammad Fawwaz Naabigh\n",
    "2. 13519214 - Tanur Rizaldi Rahardjo"
   ]
  },
  {
   "cell_type": "code",
   "execution_count": 1,
   "id": "e74619bc",
   "metadata": {},
   "outputs": [],
   "source": [
    "# Jalankan kode berikut untuk mendapatkan library yang dibutuhkan\n",
    "# !pip install pandas sklearn decision-tree-id3"
   ]
  },
  {
   "cell_type": "code",
   "execution_count": null,
   "id": "a08efb70",
   "metadata": {},
   "outputs": [],
   "source": [
    "# Melakukan import library pandas dan sklearn\n",
    "import pandas as pd\n",
    "from sklearn import datasets\n",
    "from sklearn.model_selection import train_test_split\n",
    "from sklearn.preprocessing import LabelEncoder\n",
    "from sklearn.tree import export_text"
   ]
  },
  {
   "cell_type": "code",
   "execution_count": null,
   "id": "fb40a80f",
   "metadata": {},
   "outputs": [],
   "source": [
    "# Melakukan operasi load pada breast cancer dataset / dataset pertama\n",
    "breast_cancer   = datasets.load_breast_cancer()\n",
    "df_bc           = pd.DataFrame(breast_cancer.data, columns=breast_cancer.feature_names)\n",
    "df_bc['target'] = breast_cancer.target\n",
    "\n",
    "# Memisahkan fitur dan target\n",
    "x_bc = df_bc.iloc[:, :-1]\n",
    "y_bc = df_bc['target']"
   ]
  },
  {
   "cell_type": "code",
   "execution_count": null,
   "id": "cce5c365",
   "metadata": {},
   "outputs": [],
   "source": [
    "# Membaca dataset play tennis / dataset kedua dari csv\n",
    "df_pt = pd.read_csv(\"dataset/play_tennis.csv\")\n",
    "\n",
    "# Melakukan encoding untuk merubah fitur bernilai kategorikal\n",
    "le = LabelEncoder()\n",
    "for column in df_pt.columns:\n",
    "    df_pt[column] = le.fit_transform(df_pt[column])\n",
    "\n",
    "x_pt = df_pt.iloc[:, :-1]\n",
    "y_pt = df_pt.iloc[:, -1]"
   ]
  },
  {
   "cell_type": "code",
   "execution_count": null,
   "id": "abd82dc9",
   "metadata": {},
   "outputs": [],
   "source": [
    "# Pemisahan dataset dengan partisi 80% training dan 20% testing\n",
    "x_bc_train, x_bc_test, y_bc_train, y_bc_test = train_test_split(x_bc, y_bc, test_size=0.2, random_state=420)\n",
    "x_pt_train, x_pt_test, y_pt_train, y_pt_test = train_test_split(x_pt, y_pt, test_size=0.2, random_state=420)"
   ]
  },
  {
   "cell_type": "code",
   "execution_count": null,
   "id": "a5c586f6",
   "metadata": {},
   "outputs": [],
   "source": [
    "# Fungsi untuk melakukan pembelajaran dan penilaian\n",
    "from sklearn.metrics import accuracy_score, f1_score\n",
    "def train_and_predict(model, x_train, y_train, x_test):\n",
    "    model  = model.fit(x_train, y_train)\n",
    "    y_pred = model.predict(x_test)\n",
    "    return y_pred\n",
    "\n",
    "def get_all_score(model, x_train, y_train, x_test, y_test):\n",
    "    y_pred = train_and_predict(model, x_train, y_train, x_test)\n",
    "    return [accuracy_score(y_test, y_pred), f1_score(y_test, y_pred, average='micro')]"
   ]
  },
  {
   "cell_type": "markdown",
   "id": "de3bc80b",
   "metadata": {},
   "source": [
    "##### a. DecisionTreeClassifier "
   ]
  },
  {
   "cell_type": "code",
   "execution_count": null,
   "id": "fcbe8b24",
   "metadata": {},
   "outputs": [],
   "source": [
    "from sklearn import tree\n",
    "\n",
    "# criterion = \"entropy\" to use information gain measurement\n",
    "# max_features = \"auto\" will consider sqrt(n_features) when looking for best split\n",
    "# setting the random_state will make the result remain the same for every run\n",
    "tree1 = tree.DecisionTreeClassifier(criterion=\"entropy\", max_features=\"auto\", random_state=33)\n",
    "tree2 = tree.DecisionTreeClassifier(criterion=\"entropy\", max_features=\"auto\", random_state=5)\n",
    "\n",
    "bc_dtl_scores = get_all_score(tree1, x_bc_train, y_bc_train, x_bc_test, y_bc_test)\n",
    "pt_dtl_scores = get_all_score(tree2, x_pt_train, y_pt_train, x_pt_test, y_pt_test)"
   ]
  },
  {
   "cell_type": "markdown",
   "id": "c49077cb",
   "metadata": {},
   "source": [
    "##### b. Id3Estimator"
   ]
  },
  {
   "cell_type": "code",
   "execution_count": null,
   "id": "e9e75a67",
   "metadata": {},
   "outputs": [],
   "source": [
    "import six\n",
    "import sys\n",
    "sys.modules['sklearn.externals.six'] = six\n",
    "from id3 import Id3Estimator\n",
    "from id3 import export_graphviz\n",
    "import id3.export\n",
    "\n",
    "# prune = True will prune the tree\n",
    "# gain_ratio = True will use gain ratio on split calculations\n",
    "estimator1 = Id3Estimator(prune=True, gain_ratio=True)\n",
    "estimator2 = Id3Estimator(prune=True, gain_ratio=True)\n",
    "\n",
    "bc_id3_scores = get_all_score(estimator1, x_bc_train, y_bc_train, x_bc_test, y_bc_test)\n",
    "pt_id3_scores = get_all_score(estimator2, x_pt_train, y_pt_train, x_pt_test, y_pt_test)"
   ]
  },
  {
   "cell_type": "markdown",
   "id": "38602aff",
   "metadata": {},
   "source": [
    "##### c. KMeans"
   ]
  },
  {
   "cell_type": "code",
   "execution_count": null,
   "id": "e511769b",
   "metadata": {},
   "outputs": [],
   "source": [
    "from sklearn.cluster import KMeans\n",
    "\n",
    "# setting the random_state will make the result remain the same for every run\n",
    "kmeans1 = KMeans(n_clusters=2, max_iter=10000, random_state=13) # Memiliki kanker? (yes/no)\n",
    "kmeans2 = KMeans(n_clusters=2, max_iter=10000, random_state=7) # Bermain tenis? (yes/no)\n",
    "\n",
    "bc_kmeans_scores = get_all_score(kmeans1, x_bc_train, y_bc_train, x_bc_test, y_bc_test)\n",
    "pt_kmeans_scores = get_all_score(kmeans2, x_pt_train, y_pt_train, x_pt_test, y_pt_test)"
   ]
  },
  {
   "cell_type": "markdown",
   "id": "5daadca4",
   "metadata": {},
   "source": [
    "###### d. LogisticRegression "
   ]
  },
  {
   "cell_type": "code",
   "execution_count": null,
   "id": "b7d92673",
   "metadata": {},
   "outputs": [],
   "source": [
    "from sklearn.linear_model import LogisticRegression\n",
    "\n",
    "logres1 = LogisticRegression(max_iter=10000)\n",
    "logres2 = LogisticRegression(max_iter=10000)\n",
    "\n",
    "bc_logres_scores = get_all_score(logres1, x_bc_train, y_bc_train, x_bc_test, y_bc_test)\n",
    "pt_logres_scores = get_all_score(logres2, x_pt_train, y_pt_train, x_pt_test, y_pt_test)"
   ]
  },
  {
   "cell_type": "markdown",
   "id": "79e51d47",
   "metadata": {},
   "source": [
    "##### e. Neural Network"
   ]
  },
  {
   "cell_type": "code",
   "execution_count": null,
   "id": "e1cec810",
   "metadata": {},
   "outputs": [],
   "source": [
    "from sklearn.neural_network import MLPClassifier\n",
    "\n",
    "# solver = 'lbfgs' will use lbfgs algorithm for weight optimization.\n",
    "# the consideration of using 'lbfgs' is that it performs better in small datasets\n",
    "mlp1 = MLPClassifier(max_iter=50000, solver=\"lbfgs\")\n",
    "mlp2 = MLPClassifier(max_iter=50000, solver=\"lbfgs\")\n",
    "\n",
    "bc_mlp_scores = get_all_score(mlp1, x_bc_train, y_bc_train, x_bc_test, y_bc_test)\n",
    "pt_mlp_scores = get_all_score(mlp2, x_pt_train, y_pt_train, x_pt_test, y_pt_test)"
   ]
  },
  {
   "cell_type": "markdown",
   "id": "84148831",
   "metadata": {},
   "source": [
    "##### f. SVM"
   ]
  },
  {
   "cell_type": "code",
   "execution_count": null,
   "id": "60173bdf",
   "metadata": {},
   "outputs": [],
   "source": [
    "from sklearn.svm import SVC\n",
    "\n",
    "svc1 = SVC(kernel='linear')\n",
    "svc2 = SVC(kernel='linear')\n",
    "\n",
    "bc_svc_scores = get_all_score(svc1, x_bc_train, y_bc_train, x_bc_test, y_bc_test)\n",
    "pt_svc_scores = get_all_score(svc2, x_pt_train, y_pt_train, x_pt_test, y_pt_test)"
   ]
  },
  {
   "cell_type": "markdown",
   "id": "492156ef",
   "metadata": {},
   "source": [
    "## Analisis Score"
   ]
  },
  {
   "cell_type": "code",
   "execution_count": null,
   "id": "6f6a2c29",
   "metadata": {},
   "outputs": [],
   "source": [
    "index = [\n",
    "    'Decision Tree',\n",
    "    'Id3 Estimator',\n",
    "    'KMeans',\n",
    "    'Logistic Regression',\n",
    "    'Neural Network',\n",
    "    'SVM'\n",
    "]\n",
    "\n",
    "columns = ['Accuracy', 'f1']"
   ]
  },
  {
   "cell_type": "code",
   "execution_count": null,
   "id": "4efa9a4e",
   "metadata": {},
   "outputs": [],
   "source": [
    "data_bc = [\n",
    "    bc_dtl_scores,\n",
    "    bc_id3_scores,\n",
    "    bc_kmeans_scores,\n",
    "    bc_logres_scores,\n",
    "    bc_mlp_scores,\n",
    "    bc_svc_scores\n",
    "]\n",
    "\n",
    "\n",
    "df_scores_bc = pd.DataFrame(data=data_bc, index=index, columns=[[\"Breast Cancer\" for i in range(len(columns))], columns])"
   ]
  },
  {
   "cell_type": "code",
   "execution_count": null,
   "id": "24c5cddd",
   "metadata": {},
   "outputs": [],
   "source": [
    "data_pt = [\n",
    "    pt_dtl_scores,\n",
    "    pt_id3_scores,\n",
    "    pt_kmeans_scores,\n",
    "    pt_logres_scores,\n",
    "    pt_mlp_scores,\n",
    "    pt_svc_scores\n",
    "]\n",
    "\n",
    "\n",
    "df_scores_pt = pd.DataFrame(data=data_pt, index=index, columns=[[\"Play Tennis\" for i in range(len(columns))], columns])"
   ]
  },
  {
   "cell_type": "code",
   "execution_count": null,
   "id": "15f184ea",
   "metadata": {},
   "outputs": [],
   "source": [
    "df_scores = pd.concat([df_scores_bc, df_scores_pt], axis=1)"
   ]
  },
  {
   "cell_type": "markdown",
   "id": "350f731d",
   "metadata": {},
   "source": [
    "#### Berikut adalah tree dari DecisionTreeClassifier"
   ]
  },
  {
   "cell_type": "code",
   "execution_count": null,
   "id": "7c0302f3",
   "metadata": {},
   "outputs": [],
   "source": [
    "print(export_text(tree1))"
   ]
  },
  {
   "cell_type": "code",
   "execution_count": null,
   "id": "64257bed",
   "metadata": {},
   "outputs": [],
   "source": [
    "print(export_text(tree2))"
   ]
  },
  {
   "cell_type": "markdown",
   "id": "32bd9aa8",
   "metadata": {},
   "source": [
    "#### Berikut adalah hasil skor akurasi dan f1 secara kesulurahan"
   ]
  },
  {
   "cell_type": "code",
   "execution_count": null,
   "id": "784332f8",
   "metadata": {},
   "outputs": [],
   "source": [
    "df_scores"
   ]
  },
  {
   "cell_type": "markdown",
   "id": "c907e37a",
   "metadata": {},
   "source": [
    "Terlihat bahwa pada dataset `Breast Cancer` skor yang didapatkan relatif lebih tinggi dibandingkan dengan dataset `Play Tennis`. Hal ini disebabkan jumlah data yang dimiliki oleh dataset `Play Tennis` sangatlah sedikit, yaitu 14 baris data. Sementara itu, dataset `Breast Cancer` memiliki 569 baris data."
   ]
  },
  {
   "cell_type": "markdown",
   "id": "9d10c736",
   "metadata": {},
   "source": [
    "#### Decision Tree"
   ]
  },
  {
   "cell_type": "markdown",
   "id": "750631b4",
   "metadata": {},
   "source": [
    "Pada *decision tree*, secara default atribut `criterion` yang dipakai bernilai `gini` yang mengimplementasikan Gini Impurity. Sementara itu, pada kode di sini, digunakan `criterion` bernilai `entropy` untuk menggunakan Information Gain sebab menghasilkan skor yang lebih baik. Sementara itu, atribut `max_features`, yang merupakan jumlah fitur yang dipertimbangkan saat melakukan pemilihan *best split*, secara default bernilai `None`, tetapi di sini dipakai nilai `auto` yang akan menggunakan sebanyak $\\sqrt{jumlah fitur}$ sebagai pertimbangan untuk pemilihan *best split* agar menghasilkan skor yang lebih baik. Selain itu, atribut `random_state` juga di-*assign* dengan nilai tertentu agar selalu menghasilkan nilai yang sama setiap kali dijalankan."
   ]
  },
  {
   "cell_type": "markdown",
   "id": "6ab7fce7",
   "metadata": {},
   "source": [
    "![Model tree](data:image/png;base64,iVBORw0KGgoAAAANSUhEUgAABEkAAAA8CAYAAACaReQsAAAgAElEQVR4Xu2dT4hfx5HHyydbhsUB78GLTYws4owmisIe1oJADAlYYQIiaEDYPloQUDB4jcEHI7QMOzg+OAxKwGBYGJ2CLERmMDkYFNiFBALyHtZo5ZHiYPliscZgsmYhsk7e7n5/fq+7q7urfr/3e7/3G311s6d//ep9uqu6u15V9X1fm3+k+PfBBx/QysqK4hdoOl8C/0Nnf32Z6NRL9Po/zPdJ6B0EQAAEQAAEQAAEQAAEBiPwX7+hA3/8e7r60o/p6GAPxYNAAATudQL3wUmyXFPg4m/+lU5/7Mu8duJfaOcfl+s9IC0IgAAIgAAIgAAIgAAIhAS4vS7RN+iVn+GDIGYLCIDAMATgJBmGM54CAiAAAiAAAiAAAiAAAiAAAiAAAiAwcgJwkox8gCAeCEwI2NSqf6Ot/5UxOXjsZ7T3Y+RgyWihFQiAAAiAAAiAAAiAAAiAAAgQwUmCWQACIAACIAACIAACIAACIAACIAACIAAChgCcJJgGIAACIAACIAACIAACIAACIAACIAACIAAnCeYACIAACIAACIAACIAACIAACIAACIAACFQEEEmCmQACIAACIAACIAACIAACIAACIAACIAACcJJgDoAACIAACIAACIAACIAACIAACIAACIBARQCRJJgJIBARuEjrB04Tbd+hnef7xDOvfvuUEX0NReDa2VU6tnuSru69Tkd7e+g1Ort6jHZPXqW91/vrtTfxButo2XRt2eQdbCDxIBAAARAAARAAARAYnACcJA55dbDYold6PrAMPp54YC8E5nVgmVe/vbz00nZycf0AnX6vFv/g8uiwykly7SytHtuiT7qjxL7ryJwkTu4bdO7ODvXqbyzO1mXTteWQ98s3j9O1C58SPfYCHb1ygj4/vk6fmf+kp9+gH7z90+KooEGewO0zq3TrDw1PszNZfY2+NP95/ws79NSrK8CXIeCtA3W7td4/dGAIUgT2s22AXvKj7vYwW2ZXsrZNd/r9oghF65HAtf8w43Rtsntc+5H5APzdxJhK215cpwOXT+37cZ+Dk8Ru0jfoyN7Qm+IpZlTn4LG2vU20eZ02ev2qO4VMxZ+YzfTqMshZfJFJA6ts7SnX/93BV+71L+IKjmzT2gHona6Xg3G7ALf+DzMXnr1EqxtHaI9bkK0+P0f0zuh1WDum1RjeONd3ZJNWDm378ctt59jGkb2eI8a0nJao/btn6I+vmVN87RRpDg/DHuLfpWvHP6LHr7xKDy0ROomozUGz4kn0l9oJ9dAbe3QUPqg0QruH2Dy8sI9csCNmaPaxbYBeZr2T++KwPC8dnle/kvXEBQBsmwCAbxgn1nrzmcqcIX9lIuUjR4mmrX36+Pd3Mkb5Vve2k8RjsyzOh2WRUzs97ZfUy3Qq+OLsvg4RvNRampP2gdMydCSYzeXq9Y2RpWbUjp0Vf9zbL4Wprxb71knC68b0c2KgXy744CJ5y8VuYCQSjqxNfRBqnCLN4WHYQ/z+d5I0PCsn1GP0yM4V+hYCSZLKYPX4OXpnYesY7MjESbIfbUNo56CXHVXcJxEF89LhefU7087gM/NB8U/mY2PrOMn0lmu7BHu8mTiZH/foJMl/sY4jAqrwYhclXx96ul+OozBJJtogFWUQfoGuHlH6Cjt250OHFzPq4ftNGBykV67u0etHO7+PwvS5sVszJTm4aCBNW830TB8E7eH48qnu+GllCNlZJufoxnNBRE6Q0lCcM+GcNPN427h0fFmtw9VPlVD3S/FYNA4DpwNHNjqROM14N+y1TpL56SUJdTi3qLh5feMcH+JXdJJo503Y3rDdPkm7m1y0irytOD2IS7FphjXSYX+O5yOw5Bx0dsTXd/uem4dzkWCxHGvbV+nwph+JqJJBqGvcGtFKz6YxMfY3kdo1Gd9ab7syhQ4+obytbJEOhbahkbOyA0c2ek5Fu/kmvb9+gR5oIhuc0+QWf4hvvix3pkUccWIcHi6lpHIEPHi+Tjexv3EpPd1okaYtv65Ejppa1rumefPcNmy+fp7veLjZRm40Twjl9SJnnjxfRdU0/6KUI1/eiXz+czy5A57V4ewJemLvbXpUs5wq23bD5u0a5gI73VylaJ/Wds3ZJ86B7c3ZZr529Slcs+TCcyk2za/jdVauw5q1yqUbcP88+zCxdV25JvLHDFR2RLi2NmKG3Fwk9en4I5V8JExLhW2Y6GHzBMYR2NiPrh3o6LSf4qe0De6xZX1v339Betnu4pq0FhLs54V66aXKbFz30nlTe1Q2utfuP7m0i0gOf45PZXNUE9I0FuzR1XsBoa6p+yWFfdJyCNv35SRxMm/SYXfGnFWocf6+RydJq866dBurSBtEJ29u0Vb75ThwWCQOP2yUAevVlOTp9+MkufXzB+jDzr6JH/av6Zu/vUvfm+rLkE7Oi+urdP3wCm1t3aydJfbM7oeYx04II7UzcLt0Mpj8mra6KZ/5Wh6MqUoGZ9Am717JVBujTP0K9hndF2I8qI1RzDlBSv2ydSoSY2EXgNXNm6ZORaf4p3tfW3O2cXBpnST1S/atl2IdtvK6nBm90S06SZgZmWLLhhKm5g0XdlieY07HROlBukiS0ldVlf7UyCR2xKdbqLFRb6BWPOd1c5DgHbRaGUq6ZuWVfeVJzMlI17oEKr0zC5uxvSutPrp32ODndklejW2wz9m8aQ5vnQK+4Xr5xS/vpz9duK9oph/+xVf0/TbVwx5G3qIDTWSDOzxQfIi3h5mXiL4dpMS4wxHF9UtunzlOt2+Z4ibPTGpvpNqauH5duo2R8f2PDtEDFy7QV01tDyvf+SfpqbaOSnXIoiCthZXB9medCLcOee/HOzQCXi3t6oB258UgjcYdAj+mR2uniOvz988EzqLikE3XoNZJs1FwERnVQbo52MjscrrOErOZTtpevfglm1eFhjPrSlaHA4uWiWqV2ZG0vUnbBYEdEa+t9e4ncl7HdneutoEdXl7/kroe6W/TqdQ2KPTddr1Ivezw0q6B7aksVSTezZ1dok9WJnXDMnv/MKo7Gd3L6hWzJ+jB5iSthXKPLtVh7nm5iHdZvzL7NJ1ehhJXaTU3/ildl2Tyi3Lb8scwvT0f0y/G4SQxBQn9zXK82UzVOLl2dp0uPbtTH6jyDoSL6+tEO6laKTrnQ2oQx+ckMRudm5liltl0C8PEIatz2TRt1bM8cxB0B/a6DoVKhsBB4MlUmith9ErwQlOGGGYPQrlDM/e3xAYvdxATH8zZQ+y0epkbB7tx7Opwvm12WomdDvHmN4r+SW2qWQFkB4jop2J5e3SSqPRnIrHbBOTsSLQO807WplnpUMDZe60MJaeDlUWygcm2MWO4fulZ2ok+o/ApY7n526dt4Ddtvs3rZ8PFvZF1AJynB6/w0Q9fvnmGPj/xtpc+wjtEUgce6UGoli0X7VI3sc//Yo2v+xH9LeUYsn05h8zLXpFV5+j4+EW/sK3t461Dwzg/pGtxd52tdaObwpJdV9pn5GxVx1FC/RZ0LjlJptPhAFzGXkvsSM7e5O2hqSkQpJ56h5hMDUB/ba1+JbGL87MN6clo9eTP9OugQHFC12d0kqj0Xao/A7TTroGdFZxNZ099DI3mc2AbvJ1gFN1bsgGdiKVebE4CvHKPLtVhfguY/uAl6Vdqn2bRy27x1lzhVmenOsVbi21z0d0D6MS8HzEOJ0mqEGNl0ifhngkabWg5F2YW/Cb9lb8fJ8m8B8zxUBRuLW1ssiFh7mUmX3U1bfUcZE4SlQziQ2gsrWQjEcuSSlHqLFVR6lDn2dkDLOM8SLTvzUnSl15qdNg5J6Ys/CwY79T84e1CbHvSaSyatvWYC+Stt7X8BiehZLkDg0p/vKmZjoBgxch+odU5fZr+S7YslEOqw6XCrbmQfvfM5C1DunmclVdpG3hWurVDb8ObX+RD322rOI3lOP3t5bDuRn9OktBx4b9b3qkTOT6sg+O9Nf42H/bwFkaTJKJIpgfezy/VB5ZUinVuHWzsZHmt1LxUyUmi1+HEvjMRfSo5CNn3SbWbxmk8WRvqtPXS/rj9OzNuQ99OwqTicXZhPpEkSn3XTMQ5t5WtgQq9TDg/wnma1a/QGZFxqFg83juobY4OsGaPLtXh5Jl0Btugt086Dn7rKjpk96CJGPxhKUem3DYdPTiLjOP57ZI4SYS5kuJDBzcA/WwgxxdJkj/clDYXXVKatvopLku3Uckww3yQHLCidxSED/d5EHLpNkzR1eGcJEK9dE4SadspozKqHWg2fSVlzDVjnQurDOdDsa14fmr4VRvxVBFDlf50Xki2Oev8IKsLuvdpetXKIBlXycZI0k9s7/TOvj5tg8RJMstXqbx9t06B9+hhRR0Nm26zf50kRF40SSIVSb9m9vwL1YEllcJc0G0XAm8/vZh8pR5v6yrZNZ0OJ1IFFxZJknO2TmdLw5kTro3zsw3myYlIrOEiSfazk0Spl/vcSaLZo0v2Ao2DxOTP+jfizWgbpPapP720zg9jV05LbqHNt3W2I1UnsOclahHdLYGTRBYeWMGb4YCljNBIDdayOUlKB0vvPcWHummmcnqx9wyISgYmD1oomtRocZuNXJX9PkPqF+sk0eilrq0rtpW6f12bktQOUPrQqhtrzaa00FY8lzXPzDtJVPo+i5Okjh6KNhOtndZfabwoJ0l2PibtSc9OEuW8X6yThCgXzs4hW6yTJC8vm26TSpVh0m2q951Ek9jitLcPTWqvCJek+TfTOEmSX4sLHzvaa3q5Ok7Tv2LJSaLS4VTU1owHIbdDZa8cz+1by3ZEt36lGPsy9HcYi5/H63rlSBSn2ySjuWSpeMubblOI6NTqpdBJ4vYNicji+JA8knSbxFRP2QqRk2RetkGYGtSfXlrHh6nR9BNTH+2Rkt3Nt0VNkoDfBx98QCsruYqjjCezToNpCoJFB+9sWL9tnfDs18UVdzvF6VI5duk+Gmn6iSQpTbfZ/86wqKstcykDkoNFMlyKCZnXtG3fta0GnatizxtWzkupkiEV9s8WdJ2MTn7jkdrUlJ0ypQ0Nb8AT/S40kkSplxodrjeTkXe6MGZ5BwC3KZ+EVLO3aTGOGtZrnljgih72RThJGra7nWK/rQkMi/529UGZbmOtdu52m1SkSb1WcDWqJLasa19LutYcWo55LOpQZfLrOKWigtKhpuXDTbgWlOTV2AaJk2T2tSjXQ6oQY5Vq8tdOgVbbi9pJEhZZrcP32auIk46Lrvx89Euqnsj7b92iuxQUVC1EiFRFWE2q0adPtIVZZx2DNkw7U4Rc/Aytk+TYjUmxR7ccWPvhrsWJbsbj9ST11Vsscduw6CSp7VFYeJK1AZmCj3xqXeX8kNgRx6h1FDljXN8qktobSeyIcn/MFQtn3lk/CrJfWAeF7ySc3DIT334Vp6a1N+NEt0nZ5zN2h7UNCn2XvZbfSrTn1XdcXAPdfJLrZcr5wTkMuPW8TWcJ07XYPRGzB9PYHBUu/R5dpMNztA36PYYAiL3F5pK5gOPZrjOkSqHZ+oa5vax7BbCmbfvo8plHIOWom8whksStlkEdkXgBaJWLwcPn/fN5dtJaAiZxvL3dpbOyetde+aL0mzPb6yxoF9am19Q1kNxTE+/VGvXOb1IbL01bb/OU2Ahw/bWvZq8hrAvHdl9HI0PEy3RUuEI1IuctAqmcT+79ErnNmfeL8xNz1wN238V/VlePeH0bWi81OlxvPL3rFROb79QVjJHO83apuSbVszupOVm84rIzc5i2ObsX2SixXqTmYy0Lp8ci/cnNXYF9LG68uf5nsWV6XavMU+eaXKdO/LXF7NgVrvT17MhMNqfqqWwbEjbAG+/pr1zVrWPxFZv2974jw69f0h6SvJoFzPWg3atAnVBPRzfsxNeMTqRnnSlRn7bb+CaetkZJeAUwI4PPq3rX9oYdHUymdTPWs4+nP7crHfxOc+1oPW8/rPWk1Y/Qhrh2R2jDXK/2Xsf2+nOWuwLYvNpUNTFydo9nItJhI07UzsrXXpOaun1LZkc4HmbD7K5dFtXXS9ZAMgef4DbiaH/M7YXszOrDySaez7FdsPr4+Ef2umtzw1Woc4FeOhtx4nfuKvK7nM4JbIMTVarv4veaNGzGOF3DTNOpch0W6iWn88/XH57beRToZbT+2L+fusw6Rzld687HqWyOGJtmjx6PW/N/uPGbp22Q2icxhmrXQOu/8usWHTyaqkeiaes2JL7TVyfYUrSek5NkKd4dQoIACIAACMyRQCk6Yo6PRtcgMB8CosgU5tHBNaIzC5eL0J25c3QAAiAwHQE+GnG6vvArEBgrgX5TJsf6lnCSjHVkIBcIgAAILDsBLvx32d8J8t/bBKZ0ksRpBrNhrL46rkSpLbP1il+DAAjMRCCTMjpTv/gxCIyJgLCOyphEnkYWOEmmoYbfgAAIgAAIgAAI3FMEohSex16go1depYcSFNiUn8JvZED7q+chex5agQAISAik61RJfo02IAACYyIAJ8mYRgOygAAIgAAIgAAIgAAIgAAIgAAIgAAILIwAnCQLQ48HgwAIgAAIgAAIgAAI5Ita+3z6KYgJ5iAAAstAIC5Ynpaav8xjGd4SMo6RAJwkYxwVyAQCIAACIAACIAACIAACIAACIAACIDA4AThJBkeOB4IACIAACIAACIAACIAACIAACIAACIyRAJwkYxwVyAQCIAACIAACIAACIAACIAACIAACIDA4AThJBkeOB4IACIAACIAACIAACIAACIAACIAACIyRAJwkYxwVyAQCIAACIAACIAACIAACIAACIAACIDA4AThJBkeOB46fwEVaP3CaaPsO7Tzfp7Tz6rdPGdHXUATcbQ67J+nq3ut0tLeHXqOzq8do9+RV2nu9v157E2+wjpZN15ZN3sEGEg8CARAAARAAARAAgcEJwElikPvXS62Zs/EO9Xo2HnxY8cDZCMzrwDKvfmd722X/tae/B1/p2ekwPzoqJ8m1s7R6bIs+6YrDvuvInCRO7ht0bnCbumy6thzyfvnmcbp24VOix16go1dO0OfH1+kz85/09Bv0g7d/Oj9luUd6vn1mlW79oeFJdG31NfrS/Of9L+zQU6+u3CMUpntN7ppQXAc6HctpfrWfbQP0kp8R7bXda9t0p98vitNMQfyGI/Df63Tg39+L/nLwqPmQ9sPgQ9pF0/byKYxlh9YcnCR2k75BR/aWwdHAHCjcpn6XTl7do3F+iDWb6dXrtNHr1+cF2xarmKdjJbZSHXzlXv8iPuvYVHN8yztd+32OlXG7ANfiOjmfvUSrG0doj1uQre4+R/TOftIN9+7VGN4413dk06xzq/T78ctt59jGkb2eI8ZKXJb47++eoT++Zk7xtVOkOTwMe4h/l64d/4gev/IqPbTEKDnRm4NmxZPoL7UT6qE39ugofFDp0bZ7iM3DC3OQw46YodnHtgF6mTG0++RgPS8dnle/4qXPOkn+Yhwf65JP/+Pfs4nfu6eG97aTJKXc5v+vXt8Yabj6PnSSuMlsv6ReplPBF2f3dYjgpZ5e3wOnZehIGOVcrx07K/64t18KU18t9q2ThNeN6efEQL9c8MFF8pYL38BIhBxTm/og1DhFmsPDsIf4/e8kaXhWTqjH6JGdK/QtBJIkNcHq8XP0zsL2bLAjEyfJfrQNoZ2DXnZUEU6S7Aq9cNugcpLYo9hiHc5j2u5YWXp0kuS/WMdfq6vwYhc/UB96ul+OozBJJtog9QU8/AJdPULxFXaUSt/hxcyi8P0mDA7SKy4qpvP7KEyfG7tU2pGmrWa6pw+C9nB8+VR3/LQyhOwsk3N047kgIidIaSjOmXBOmnm8bVw6vqyGwaz9UjwWjcPA6cCRjU4kTjPeDXutk2R+eumMbxAxxOlwblFx8/rGOT4csOgk0c6bsL1hu32Sdje5aBV5W3F6EJdi0wxrpMP+HM9HB8k56OyIr+/2PTcP5yLBYjnWtq/S4U0/ElElg1DXuDWilZ5NY2LsbyK1azK+td52ZQodfEJ5W9kiHQptQyNnZQeObBgncxOk10cq2s036f31C/RAE9ngnCa3+EN882W5My3iiBPj8HApJZUj4MHzdbqJ/Y1L6elGizRt+XUlctTUst41zZvntmHz9fN8x8PNNnKjeUIorxc58+T5Kqqm+RelHPnyTuTzn+PJHfCsDmdP0BN7b9OjmuVU2bYbNm/XMDdn3FylaJ/Wds3ZJ86B7c3ZZr529Slcs+TCcyk2za/j9Vuuw5q16lgqTNPTt4mt68o1kT9moLIjwrW1YRNyW9veJjodf6SSj4RpqbANEz1snsA4Ahv70bUDHZ32U/yUtsE9tqzv7fsvSC/bXZzd97h5JtjPC/XSS5XZuO6l86b2vmx0r91/cikakRz+HJ/K5qgmpGks2KOr9wJCXVP36z4U12fi5D5PC8C01zpJnBybdHi02RRTMJjhJz06SVp11qXbWEXaIDp5c4u22i/HQbRE4vDDRhmwDg5Nnr5t62L2p0q3ufXzB+jDzr6JH5uv6Zu/vUvfm+rLkC6S5OL6Kl0/vEJbWzdrZ4k9s/sh5rETwkidSDvStNXNy8zX8mBMVTI4gzZ590qm2hhlDg3sM7ovxHhbG6OYc66U+mXrVKRSwGwUyOZNU6eiU/zTva+tOduku2mdJPVL9q2XYh2eQf+KThJmRibT67iww9S80bTtyCCWVxdJUvqqqtKfWlyJHfHpFmps1BuoFc953RwkeAetVoaSrll5ZV95EnMy0rUugUrvzMJmbO9Kq4/uHTb4taUkr8Y22Ods3jSb6k4B33C9/OKX99OfLtxXNNMP/+Ir+n6b6mEPI2/RgSaywR0eKD7E28PMS0TfDlJi3OGI4volt88cp9u3THGTZya1N1JtTVy/Lt3GyPj+R4fogQsX6KumtoeV7/yT9FRbR6U6ZFGQ1sLKYPuzToRbh7z34x0aAa+WdnVAu/NikEbjDoEf06O1U8T1+ftnAmdRccima1DrpNkouIiM6iDdHGxkdjldZ4nZePeY2lyyeVXKIrOvy+pwYNEyUa0yO5K2N2m7ILAj4rW13v1EzuvY7s7VNrCzk9e/pK5H+tt0KrUNCn23XS9SLzu8tGtgeypLFYl3c2eX6JOVSd2wzN4/jOpORveyesXsCXqwOUljp9yjS3WYe14u4l3Wr8w+TaWXXE2SvzO1+06nLwwof+CabolZxl+Nw0liChL6m+V4s5mqcXLt7DpdenandmjkHQgX19eJdnK1UmbPxxqfk8RsdG5millm0y0MT4eszmXTtFVrQ+Yg6A7sdR0KlQyBg8CTqTRXwuiV4IWmjDbKHoRyh2bub4kNXu4g5pxfkrod7CF2Wr3MjYPdOHZ1ON82O62k7xYNJTfWskNB1ZWmbefhYnl7dJKo9Gciq9sE5OxIODCFA1DpUMDZe60MJaeDGzlBTZJsG/Oe65eepZ2ogBWfMpabv33aBn7T5tu8qTZcIrtuHQDn6cErfPTDl2+eoc9PvO2lj/AOkdSBR3oQqoXNRbvUTezzv1jj635Ef0s5hmxfziHzsldk1Tk6Pn7RL2xr+3jr0DDOD9GYOWXw6j2FjofsutI+I2erOo4S6regc8lJMp0OB+Ay9lpiR3L2Jm8PTU2xIPV0Iplmba1+JbGL87MN6clo9eTP9OugQHFC12d0kqj0Xao/A7TTroGdFZxNZ099DI3mc2AbvJ1gFN1bsgGdiKVebE4CvHKPLtVh9mkz2gapfepNL63j5D9NDaeEoyQbsT3APB/TI8bhJEkVYqxMehyCFBBsQ8u5MLOgbforf+HL52hGbYpIksSXy2bRToaLuneefNXNho8FbfW4ZE4SlQziQ2gsrWQjEctSvhkp22/2AMtshhLte3OS9KWXGh12DocpCz8Lxjs1f3i7ENuedBqLpm093wTy1ttafoOTULLcgUGlP53+ZQck7wdBRFNXWJ3Tp/mlVgapDpcKt+ZC+p1syVuGdPO4T9vAs9KtHXob3vwiH/puW8VpLMfpby+HdTf6c5KEjgv/3fJOncjxYR0c763xt/mwh7cwmiQRRTI98H5+qT6wcGl7/p6BWVnr/Vx5rdS8VMlJotfhxL4zEX0qPWCl2k3jNJ6sDUGIfmp/3P5/ZtyGvp2EScXj7MJ8IkmU+q6ZiHNuK1sDFXqZcH6E8zSrX6EzIuNQsXi8d1DbHB1gzR5dqsPJM+kMtkFvn3Qc4tZmjmybr6U/MVGtjzB/TUUezfrYJfz9kjhJhLmS4kNHMFI9hn2OL5IkHd5tKZQ2F11SmrZ6XZCl26hkmHY+OENeiCThXlAwj/o8CNl8S67A8HBOEqFeJory8nNkyqiMajJno2RSoeCasc6FVYbvU2wrnp86p0LJSTJNgUPZ5qxDIKsLuvdpetXKIBlXycZI0g+7CVE6+/q0DRInSW9fpaKXt06B9+hhRR0Nm26zf50kRF40SSIVSb9m9vwL1YEllcJc0G0XAm8/vZh8pR5v6yrtC3Q6nPhgNuPX4ma/xTllZ3OSSNfh9HwJ18b52QYjQyISa7hIkv3sJFHq5T53kkQzPrMvkewFGgeJyZ/1b8Sb0TZI7VOfenlxx5wNv59xkqRq//W87Iy9uyVwkmgOrFMcsBQ5qZLBXDYnSelg6b2z+FAnIRUdKZNfyz0DopKByYMWiiY1WmF3M23Wcu/G/W2hThKNXuraumJbqbvatYzaAUpHqOjGWnPAL7QVz2XNMwuOT/Ez/ZmtdVAkNxOu2+nSGrUySMZVtDFShu1W5PQRUf2m23DO8aHSbYhy4eycCV6skyQvL5tuk0qVYdJtqvedRJPY4rS3D01qrwiXpPk30zhJkl+LCx872mt6p7MBKQildTe7pkRbkcTthjMehNJOkty+tWxHJHauPHl8Gfo8jIXP5nW9ciSK022S0VyyVLzlTbfJf/QMU+Ym7BN6KXSSpPut9ht+Mf2RpNskJuD4VQgAAAaFSURBVH3KVkj3AuzNp7PaBuEeoz+9NGP0K+Nc/We+/ARqkkwmz5ycJMdot1MwrrndoykIFh28s2H9tnUqFYbxmiY9hXEfqS/LqgW1vPr03IJhUVdb5lIGJAeLLAevCGhtEHc7hUKbt8s5m9pq0Lkq9rxh5XLjNPJW1a27hUxrgdmCrp0lJRtJktrUlJ0ypQ0Nb8AT/S7YSaLSS40O2yMmd4tNYczyDj9uUz4JqWZv02IcNUm5pG271kDssOjRSdKwVeqwxI7EZ43M7TYpO+3+P1+jSitDSdeaQ8sxj0Udqkx+HadUVFDSFvXtJKnHLY4C4m2DJJKk54Up6C5ViLFKNflrp0Cr/aHaSRIWWa3D99mriJOOi67IfPRLqp7I+2/dorsUFFQtRIhURVhNqtGnT7SFWWcdgzZMu4+bi7ROkmM3JsUe3Tatub0sTqXh9ST11VtPpegkceKZukrm/rk7TY21+jGRbJmCj3xqHbcv4u1IdL1mbe8+aW8tCd+97CRRrcOpNYd5Z/0oyH5hHRS+k3Byy0x8+1WcmtbejBPdJmWfz9gd1jYo9F32Wn4r0Z5X33FxDXTzSa6XKecH5zDgDs5tOkuYrsUe+pk9mMbmqHDp9+ixjWJ0eI62QWyfNBw+M/PhktlP/chEvny3+aFNtTFn9IOmQPcPjzK9lc8xGhGWve0cnCRutQzqiMSH4zhXbIKSz/vn8+yktQQmV2dNnpPNAxs6R1Mzk9qFtflR6hpIrtNELnBr1Du/SW28NG29zVPCScL1175avKlxf9LIEPEyvy9coRqR8+ZDKueTe79EbnPm/eJ5mbsesPsu/rO6esTr29B6qdHheuPpXa+Y2HynrmCMNp68XWquSfXsTmpOFq+47Mwcpm3O7kU2SqwXqflYy8LpsUh/cnNXUFOguPHm+p/Flul1rTIlnWtynTrx1xazY1e40tezIzPZnKqnsm1I2ABvvKe/clWzTHFXbNrf+44Mv35Je0jyahYw14N2rwJ1Qj0d3bATXzM6kZ51pkR92m7jm3jaGiXhFcCMDD6v6l3bG3Z0MJnWzVjPPp7+3K508DvNtaP1vP2w1pNWP0Ib4todoQ13jeVEJn/OclcAm1ebar+Vs3s8E5EOG3Gidla+9prU1O1bMjvC8TAbZnftsqi+XrIGkinwam+J9ZYgJi3AOKGDZom6SjNP0EQH8dW7Vh8f/8hed21uuAp1LtBLZyNO/M5dRX6X0zmBbXCCSfV9CgzNGKdrmGk6Va7DQr3kdP75OsqznUeBXkbrj/37qcvmQ6S7M7xzqyK3f7NqPpmPU9kcMTbNHn3SqWQvME/bILVPYgyuYeUU2fq/ya8OHk05SEyb4r5N9/Rlbz0nJ8myY4H8IAACIAACsxKQRHPM+gz8HgQGJSCKTGEkCq4RnVnm2vnPRujO3Dk6AAEQmI5AIopous7wKxAYkEC/aZADCj63R8FJMje06BgEQAAE7nECXPjvPY4Er7/kBKZ0ksRpBrNxqL46rnhfb2frEb8GARCYmUAmZXTmvtEBCMyTgLA2yjxFGFvfcJKMbUQgDwiAAAiAAAiAwOgIRCk8j71AR6+8Sg8lJGVTfgq/kb10f/U8ZM9DKxAAAQmBdJ0qya/RBgRAYEwE4CQZ02hAFhAAARAAARAAARAAARAAARAAARAAgYURgJNkYejxYBAAARAAARAAARAAgXxRa59PPwUxwRwEQGAZCGQv2QhegL/MYxneEjKOkQCcJGMcFcgEAiAAAiAAAiAAAiAAAiAAAiAAAiAwOAE4SQZHjgeCAAiAAAiAAAiAAAiAAAiAAAiAAAiMkQCcJGMcFcgEAiAAAiAAAiAAAiAAAiAAAiAAAiAwOAE4SQZHjgeCAAiAAAiAAAiAAAiAAAiAAAiAAAiMkQCcJGMcFcgEAiAAAiAAAiAAAiAAAiAAAiAAAiAwOAE4SQZHjgeCAAiAAAiAAAiAAAiAAAiAAAiAAAiMkQCcJGMcFcgEAiAAAiAAAiAAAiAAAiAAAiAAAiAwOAE4SQZHjgeCAAiAAAiAAAiAAAiAAAiAAAiAAAiMkQCcJGMcFcgEAiAAAiAAAiAAAiAAAiAAAiAAAiAwOAE4SQZHjgeCAAiAAAiAAAiAAAiAAAiAAAiAAAiMkQCcJGMcFcgEAiAAAiAAAiAAAiAAAiAAAiAAAiAwOAE4SQZHjgeCAAiAAAiAAAiAAAiAAAiAAAiAAAiMkcD/AzJa9djp/X1qAAAAAElFTkSuQmCC)"
   ]
  },
  {
   "cell_type": "markdown",
   "id": "6ab588d9",
   "metadata": {},
   "source": [
    "#### Id3 Estimator"
   ]
  },
  {
   "cell_type": "markdown",
   "id": "5d40202b",
   "metadata": {},
   "source": [
    "Pada *Id3 Estimator* digunakan 2 atribut untuk *tuning*, yaitu `prune` dan `gain_ratio` yang menerima nilai `boolean`. Atribut `prune` yang bernilai `True` akan mengimplmentasikan *pruning* pada *tree* yang dibuat yang menghasilkan nilai skor yang lebih baik dibandingkan dengan tidak diimplementasikan. Sementara itu, `gain_ratio` yang bernilai `True` akan mengimplementasikan *gain ratio* untuk kalkulasi pada saat *splitting tree*. Pengimplementasian *gain ratio* ini menghasilkan nilai skor yang lebih baik."
   ]
  },
  {
   "cell_type": "markdown",
   "id": "494a012a",
   "metadata": {},
   "source": [
    "![Model id3](data:image/png;base64,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)"
   ]
  },
  {
   "cell_type": "markdown",
   "id": "4b3fec15",
   "metadata": {},
   "source": [
    "#### KMeans"
   ]
  },
  {
   "cell_type": "markdown",
   "id": "13a011a1",
   "metadata": {},
   "source": [
    "Algoritma pembelajaran *unsupervised* ini memiliki nilai akurasi dan f1 terendah dibandingkan 5 algoritma pembelajaran yang lain. Hal ini disebabkan karena jumlah kluster default bernilai 8. Berikut adalah potongan dari dokumentasi sklearn\n",
    "![Dokumentasi KMeans](data:image/png;base64,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)"
   ]
  },
  {
   "cell_type": "markdown",
   "id": "fc118668",
   "metadata": {},
   "source": [
    "Karena label pada kedua dataset hanyalah 2, hal tersebut akan menyebabkan hasil pembelajaran yang cukup jelek dibandingkan algoritma *supervised*. Untuk meningkatkan hal tersebut, digunakan parameter `n_clusters` bernilai 2. Selain itu, atribut `max_iter` yang merupakan jumlah iterasi maksimal yang dilakukan untuk pembelajaran di-*assign* dengan nilai 10000 dan `random_state` di-*assign* dengan nilai tertentu agar pada setiap kali dijalankan, menghasilkan hasil yang sama."
   ]
  },
  {
   "cell_type": "markdown",
   "id": "67c2bdae",
   "metadata": {},
   "source": [
    "![Model yang dituning](data:image/png;base64,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)"
   ]
  },
  {
   "cell_type": "markdown",
   "id": "5a846b88",
   "metadata": {},
   "source": [
    "#### Logistic Regression"
   ]
  },
  {
   "cell_type": "markdown",
   "id": "5e271971",
   "metadata": {},
   "source": [
    "Algoritma pembelajaran ini berjalan dengan cukup baik tanpa perlu dilakukan *tuning*. Namun sklearn mengeluarkan *warning* bahwa fungsi prediksi belum mencapai konvergen. Untuk mengatasi hal tersebut dapat ditingkatkan proses iterasi regresi agar fungsi prediksi dapat masuk kedalam daerah konvergen yang didefinisikan sklearn."
   ]
  },
  {
   "cell_type": "markdown",
   "id": "6285a7e7",
   "metadata": {},
   "source": [
    "![Model logres](data:image/png;base64,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)"
   ]
  },
  {
   "cell_type": "markdown",
   "id": "924177e8",
   "metadata": {},
   "source": [
    "#### Neural Network"
   ]
  },
  {
   "cell_type": "markdown",
   "id": "b2e1394c",
   "metadata": {},
   "source": [
    "Pada algoritma ini, digunakan atribut `solver` dengan nilai `lbfgs` yang secara default bernilai `adam`. Atribut ini mendefinisikan algoritma *weight optimization* yang digunakan pada proses pelatihan. Menurut dokumentasi, `adam` akan mengimplementasikan *stochastic gradient-based optimizer*, sementara itu `lbfgs` mengimplementasikan *quasi-Newton methods*. Pemilihan `lbfgs` dibandingkan dengan yang lainnya adalah sebab *optimizer* ini dapat konvergen lebih cepat dan memiliki performa yang lebih baik untuk data yang sedikit. Mengingat kedua dataset yang dipakai cukup sedikit, yaitu 569 dan 14 baris data."
   ]
  },
  {
   "cell_type": "markdown",
   "id": "0d46645d",
   "metadata": {},
   "source": [
    "![Model NN](data:image/png;base64,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)"
   ]
  },
  {
   "cell_type": "markdown",
   "id": "ba880a33",
   "metadata": {},
   "source": [
    "#### SVM"
   ]
  },
  {
   "cell_type": "markdown",
   "id": "1e6de246",
   "metadata": {},
   "source": [
    "Pada algoitma *classifier* ini, didapatkan skor yang cukup baik tanpa dilakukan *tuning* sama sekali. Namun, pemilihan nilai `linear` pada atribut `kernel` dapat meningkatkan skor hingga 0.96 pada dataset `Breast Cancer`. Atribut ini, secara default bernilai `rbf`."
   ]
  },
  {
   "cell_type": "markdown",
   "id": "af891829",
   "metadata": {},
   "source": [
    "![Model SVC](data:image/png;base64,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)"
   ]
  },
  {
   "cell_type": "code",
   "execution_count": null,
   "id": "159d0e06",
   "metadata": {},
   "outputs": [],
   "source": []
  }
 ],
 "metadata": {
  "kernelspec": {
   "display_name": "Python 3 (ipykernel)",
   "language": "python",
   "name": "python3"
  },
  "language_info": {
   "codemirror_mode": {
    "name": "ipython",
    "version": 3
   },
   "file_extension": ".py",
   "mimetype": "text/x-python",
   "name": "python",
   "nbconvert_exporter": "python",
   "pygments_lexer": "ipython3",
   "version": "3.7.9"
  }
 },
 "nbformat": 4,
 "nbformat_minor": 5
}
