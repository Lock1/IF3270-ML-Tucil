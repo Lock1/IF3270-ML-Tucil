{
 "cells": [
  {
   "cell_type": "markdown",
   "id": "c51afc12",
   "metadata": {},
   "source": [
    "# Tugas Kecil 1\n",
    "## Eksplorasi library Decision Tree Learning pada Jupyter Notebook\n",
    "### Anggota\n",
    "1. 13519206 - Muhammad Fawwaz Naabigh\n",
    "2. 13519214 - Tanur Rizaldi Rahardjo"
   ]
  },
  {
   "cell_type": "code",
   "execution_count": 1,
   "id": "e74619bc",
   "metadata": {},
   "outputs": [],
   "source": [
    "# Jalankan kode berikut untuk mendapatkan library yang dibutuhkan\n",
    "# !pip install pandas sklearn decision-tree-id3"
   ]
  },
  {
   "cell_type": "code",
   "execution_count": 2,
   "id": "a08efb70",
   "metadata": {},
   "outputs": [],
   "source": [
    "# Melakukan import library pandas dan sklearn\n",
    "import pandas as pd\n",
    "from sklearn import datasets\n",
    "from sklearn.model_selection import train_test_split\n",
    "from sklearn.preprocessing import LabelEncoder\n",
    "from sklearn.tree import export_text"
   ]
  },
  {
   "cell_type": "code",
   "execution_count": 3,
   "id": "fb40a80f",
   "metadata": {},
   "outputs": [],
   "source": [
    "# Melakukan operasi load pada breast cancer dataset / dataset pertama\n",
    "breast_cancer   = datasets.load_breast_cancer()\n",
    "df_bc           = pd.DataFrame(breast_cancer.data, columns=breast_cancer.feature_names)\n",
    "df_bc['target'] = breast_cancer.target\n",
    "\n",
    "# Memisahkan fitur dan target\n",
    "x_bc = df_bc.iloc[:, :-1]\n",
    "y_bc = df_bc['target']"
   ]
  },
  {
   "cell_type": "code",
   "execution_count": 4,
   "id": "cce5c365",
   "metadata": {},
   "outputs": [],
   "source": [
    "# Membaca dataset play tennis / dataset kedua dari csv\n",
    "df_pt = pd.read_csv(\"dataset/play_tennis.csv\")\n",
    "\n",
    "# Melakukan encoding untuk merubah fitur bernilai kategorikal\n",
    "le = LabelEncoder()\n",
    "for column in df_pt.columns:\n",
    "    df_pt[column] = le.fit_transform(df_pt[column])\n",
    "\n",
    "x_pt = df_pt.iloc[:, :-1]\n",
    "y_pt = df_pt.iloc[:, -1]"
   ]
  },
  {
   "cell_type": "code",
   "execution_count": 5,
   "id": "abd82dc9",
   "metadata": {},
   "outputs": [],
   "source": [
    "# Pemisahan dataset dengan partisi 80% training dan 20% testing\n",
    "x_bc_train, x_bc_test, y_bc_train, y_bc_test = train_test_split(x_bc, y_bc, test_size=0.2, random_state=420)\n",
    "x_pt_train, x_pt_test, y_pt_train, y_pt_test = train_test_split(x_pt, y_pt, test_size=0.2, random_state=420)"
   ]
  },
  {
   "cell_type": "code",
   "execution_count": 6,
   "id": "a5c586f6",
   "metadata": {},
   "outputs": [],
   "source": [
    "# Fungsi untuk melakukan pembelajaran dan penilaian\n",
    "from sklearn.metrics import accuracy_score, f1_score\n",
    "def train_and_predict(model, x_train, y_train, x_test):\n",
    "    model  = model.fit(x_train, y_train)\n",
    "    y_pred = model.predict(x_test)\n",
    "    return y_pred\n",
    "\n",
    "def get_all_score(model, x_train, y_train, x_test, y_test):\n",
    "    y_pred = train_and_predict(model, x_train, y_train, x_test)\n",
    "    return [accuracy_score(y_test, y_pred), f1_score(y_test, y_pred, average='micro')]"
   ]
  },
  {
   "cell_type": "markdown",
   "id": "de3bc80b",
   "metadata": {},
   "source": [
    "##### a. DecisionTreeClassifier "
   ]
  },
  {
   "cell_type": "code",
   "execution_count": 7,
   "id": "fcbe8b24",
   "metadata": {},
   "outputs": [],
   "source": [
    "from sklearn import tree\n",
    "\n",
    "# criterion = \"entropy\" to use information gain measurement\n",
    "# max_features = \"auto\" will consider sqrt(n_features) when looking for best split\n",
    "# setting the random_state will make the result remain the same for every run\n",
    "tree1 = tree.DecisionTreeClassifier(criterion=\"entropy\", max_features=\"auto\", random_state=33)\n",
    "tree2 = tree.DecisionTreeClassifier(criterion=\"entropy\", max_features=\"auto\", random_state=5)\n",
    "\n",
    "bc_dtl_scores = get_all_score(tree1, x_bc_train, y_bc_train, x_bc_test, y_bc_test)\n",
    "pt_dtl_scores = get_all_score(tree2, x_pt_train, y_pt_train, x_pt_test, y_pt_test)"
   ]
  },
  {
   "cell_type": "markdown",
   "id": "c49077cb",
   "metadata": {},
   "source": [
    "##### b. Id3Estimator"
   ]
  },
  {
   "cell_type": "code",
   "execution_count": 8,
   "id": "e9e75a67",
   "metadata": {},
   "outputs": [],
   "source": [
    "import six\n",
    "import sys\n",
    "sys.modules['sklearn.externals.six'] = six\n",
    "from id3 import Id3Estimator\n",
    "from id3 import export_graphviz\n",
    "import id3.export\n",
    "\n",
    "# prune = True will prune the tree\n",
    "# gain_ratio = True will use gain ratio on split calculations\n",
    "estimator1 = Id3Estimator(prune=True, gain_ratio=True)\n",
    "estimator2 = Id3Estimator(prune=True, gain_ratio=True)\n",
    "\n",
    "bc_id3_scores = get_all_score(estimator1, x_bc_train, y_bc_train, x_bc_test, y_bc_test)\n",
    "pt_id3_scores = get_all_score(estimator2, x_pt_train, y_pt_train, x_pt_test, y_pt_test)"
   ]
  },
  {
   "cell_type": "markdown",
   "id": "38602aff",
   "metadata": {},
   "source": [
    "##### c. KMeans"
   ]
  },
  {
   "cell_type": "code",
   "execution_count": 9,
   "id": "e511769b",
   "metadata": {},
   "outputs": [],
   "source": [
    "from sklearn.cluster import KMeans\n",
    "\n",
    "# setting the random_state will make the result remain the same for every run\n",
    "kmeans1 = KMeans(n_clusters=2, max_iter=10000, random_state=13) # Memiliki kanker? (yes/no)\n",
    "kmeans2 = KMeans(n_clusters=2, max_iter=10000, random_state=7) # Bermain tenis? (yes/no)\n",
    "\n",
    "bc_kmeans_scores = get_all_score(kmeans1, x_bc_train, y_bc_train, x_bc_test, y_bc_test)\n",
    "pt_kmeans_scores = get_all_score(kmeans2, x_pt_train, y_pt_train, x_pt_test, y_pt_test)"
   ]
  },
  {
   "cell_type": "markdown",
   "id": "5daadca4",
   "metadata": {},
   "source": [
    "###### d. LogisticRegression "
   ]
  },
  {
   "cell_type": "code",
   "execution_count": 10,
   "id": "b7d92673",
   "metadata": {},
   "outputs": [],
   "source": [
    "from sklearn.linear_model import LogisticRegression\n",
    "\n",
    "logres1 = LogisticRegression(max_iter=10000)\n",
    "logres2 = LogisticRegression(max_iter=10000)\n",
    "\n",
    "bc_logres_scores = get_all_score(logres1, x_bc_train, y_bc_train, x_bc_test, y_bc_test)\n",
    "pt_logres_scores = get_all_score(logres2, x_pt_train, y_pt_train, x_pt_test, y_pt_test)"
   ]
  },
  {
   "cell_type": "markdown",
   "id": "79e51d47",
   "metadata": {},
   "source": [
    "##### e. Neural Network"
   ]
  },
  {
   "cell_type": "code",
   "execution_count": 11,
   "id": "e1cec810",
   "metadata": {},
   "outputs": [],
   "source": [
    "from sklearn.neural_network import MLPClassifier\n",
    "\n",
    "# solver = 'lbfgs' will use lbfgs algorithm for weight optimization.\n",
    "# the consideration of using 'lbfgs' is that it performs better in small datasets\n",
    "mlp1 = MLPClassifier(max_iter=50000, solver=\"lbfgs\")\n",
    "mlp2 = MLPClassifier(max_iter=50000, solver=\"lbfgs\")\n",
    "\n",
    "bc_mlp_scores = get_all_score(mlp1, x_bc_train, y_bc_train, x_bc_test, y_bc_test)\n",
    "pt_mlp_scores = get_all_score(mlp2, x_pt_train, y_pt_train, x_pt_test, y_pt_test)"
   ]
  },
  {
   "cell_type": "markdown",
   "id": "84148831",
   "metadata": {},
   "source": [
    "##### f. SVM"
   ]
  },
  {
   "cell_type": "code",
   "execution_count": 12,
   "id": "60173bdf",
   "metadata": {},
   "outputs": [],
   "source": [
    "from sklearn.svm import SVC\n",
    "\n",
    "svc1 = SVC()\n",
    "svc2 = SVC()\n",
    "\n",
    "bc_svc_scores = get_all_score(svc1, x_bc_train, y_bc_train, x_bc_test, y_bc_test)\n",
    "pt_svc_scores = get_all_score(svc2, x_pt_train, y_pt_train, x_pt_test, y_pt_test)"
   ]
  },
  {
   "cell_type": "markdown",
   "id": "492156ef",
   "metadata": {},
   "source": [
    "## Analisis Score"
   ]
  },
  {
   "cell_type": "code",
   "execution_count": 13,
   "id": "6f6a2c29",
   "metadata": {},
   "outputs": [],
   "source": [
    "index = [\n",
    "    'Decision Tree',\n",
    "    'Id3 Estimator',\n",
    "    'KMeans',\n",
    "    'Logistic Regression',\n",
    "    'Neural Network',\n",
    "    'SVC'\n",
    "]\n",
    "\n",
    "columns = ['Accuracy', 'f1']"
   ]
  },
  {
   "cell_type": "code",
   "execution_count": 14,
   "id": "4efa9a4e",
   "metadata": {},
   "outputs": [],
   "source": [
    "data_bc = [\n",
    "    bc_dtl_scores,\n",
    "    bc_id3_scores,\n",
    "    bc_kmeans_scores,\n",
    "    bc_logres_scores,\n",
    "    bc_mlp_scores,\n",
    "    bc_svc_scores\n",
    "]\n",
    "\n",
    "\n",
    "df_scores_bc = pd.DataFrame(data=data_bc, index=index, columns=[[\"Breast Cancer\" for i in range(len(columns))], columns])"
   ]
  },
  {
   "cell_type": "code",
   "execution_count": 15,
   "id": "24c5cddd",
   "metadata": {},
   "outputs": [],
   "source": [
    "data_pt = [\n",
    "    pt_dtl_scores,\n",
    "    pt_id3_scores,\n",
    "    pt_kmeans_scores,\n",
    "    pt_logres_scores,\n",
    "    pt_mlp_scores,\n",
    "    pt_svc_scores\n",
    "]\n",
    "\n",
    "\n",
    "df_scores_pt = pd.DataFrame(data=data_pt, index=index, columns=[[\"Play Tennis\" for i in range(len(columns))], columns])"
   ]
  },
  {
   "cell_type": "code",
   "execution_count": 16,
   "id": "15f184ea",
   "metadata": {},
   "outputs": [],
   "source": [
    "df_scores = pd.concat([df_scores_bc, df_scores_pt], axis=1)"
   ]
  },
  {
   "cell_type": "markdown",
   "id": "350f731d",
   "metadata": {},
   "source": [
    "#### Berikut adalah tree dari DecisionTreeClassifier"
   ]
  },
  {
   "cell_type": "code",
   "execution_count": 17,
   "id": "7c0302f3",
   "metadata": {},
   "outputs": [
    {
     "name": "stdout",
     "output_type": "stream",
     "text": [
      "|--- feature_23 <= 884.75\n",
      "|   |--- feature_6 <= 0.09\n",
      "|   |   |--- feature_12 <= 4.12\n",
      "|   |   |   |--- feature_28 <= 0.35\n",
      "|   |   |   |   |--- feature_27 <= 0.13\n",
      "|   |   |   |   |   |--- feature_18 <= 0.02\n",
      "|   |   |   |   |   |   |--- feature_21 <= 33.10\n",
      "|   |   |   |   |   |   |   |--- class: 1\n",
      "|   |   |   |   |   |   |--- feature_21 >  33.10\n",
      "|   |   |   |   |   |   |   |--- feature_21 <= 33.56\n",
      "|   |   |   |   |   |   |   |   |--- class: 0\n",
      "|   |   |   |   |   |   |   |--- feature_21 >  33.56\n",
      "|   |   |   |   |   |   |   |   |--- class: 1\n",
      "|   |   |   |   |   |--- feature_18 >  0.02\n",
      "|   |   |   |   |   |   |--- class: 1\n",
      "|   |   |   |   |--- feature_27 >  0.13\n",
      "|   |   |   |   |   |--- feature_28 <= 0.26\n",
      "|   |   |   |   |   |   |--- class: 0\n",
      "|   |   |   |   |   |--- feature_28 >  0.26\n",
      "|   |   |   |   |   |   |--- class: 1\n",
      "|   |   |   |--- feature_28 >  0.35\n",
      "|   |   |   |   |--- feature_26 <= 0.36\n",
      "|   |   |   |   |   |--- class: 1\n",
      "|   |   |   |   |--- feature_26 >  0.36\n",
      "|   |   |   |   |   |--- class: 0\n",
      "|   |   |--- feature_12 >  4.12\n",
      "|   |   |   |--- feature_19 <= 0.00\n",
      "|   |   |   |   |--- class: 0\n",
      "|   |   |   |--- feature_19 >  0.00\n",
      "|   |   |   |   |--- class: 1\n",
      "|   |--- feature_6 >  0.09\n",
      "|   |   |--- feature_21 <= 25.74\n",
      "|   |   |   |--- feature_24 <= 0.15\n",
      "|   |   |   |   |--- class: 1\n",
      "|   |   |   |--- feature_24 >  0.15\n",
      "|   |   |   |   |--- feature_23 <= 678.25\n",
      "|   |   |   |   |   |--- class: 1\n",
      "|   |   |   |   |--- feature_23 >  678.25\n",
      "|   |   |   |   |   |--- feature_3 <= 674.80\n",
      "|   |   |   |   |   |   |--- class: 0\n",
      "|   |   |   |   |   |--- feature_3 >  674.80\n",
      "|   |   |   |   |   |   |--- class: 1\n",
      "|   |   |--- feature_21 >  25.74\n",
      "|   |   |   |--- feature_4 <= 0.10\n",
      "|   |   |   |   |--- feature_7 <= 0.05\n",
      "|   |   |   |   |   |--- class: 1\n",
      "|   |   |   |   |--- feature_7 >  0.05\n",
      "|   |   |   |   |   |--- class: 0\n",
      "|   |   |   |--- feature_4 >  0.10\n",
      "|   |   |   |   |--- class: 0\n",
      "|--- feature_23 >  884.75\n",
      "|   |--- feature_27 <= 0.14\n",
      "|   |   |--- feature_21 <= 19.91\n",
      "|   |   |   |--- class: 1\n",
      "|   |   |--- feature_21 >  19.91\n",
      "|   |   |   |--- feature_8 <= 0.15\n",
      "|   |   |   |   |--- class: 1\n",
      "|   |   |   |--- feature_8 >  0.15\n",
      "|   |   |   |   |--- class: 0\n",
      "|   |--- feature_27 >  0.14\n",
      "|   |   |--- class: 0\n",
      "\n"
     ]
    }
   ],
   "source": [
    "print(export_text(tree1))"
   ]
  },
  {
   "cell_type": "code",
   "execution_count": 18,
   "id": "64257bed",
   "metadata": {},
   "outputs": [
    {
     "name": "stdout",
     "output_type": "stream",
     "text": [
      "|--- feature_1 <= 1.50\n",
      "|   |--- class: 1\n",
      "|--- feature_1 >  1.50\n",
      "|   |--- feature_2 <= 0.50\n",
      "|   |   |--- class: 1\n",
      "|   |--- feature_2 >  0.50\n",
      "|   |   |--- feature_3 <= 0.50\n",
      "|   |   |   |--- class: 0\n",
      "|   |   |--- feature_3 >  0.50\n",
      "|   |   |   |--- class: 1\n",
      "\n"
     ]
    }
   ],
   "source": [
    "print(export_text(tree2))"
   ]
  },
  {
   "cell_type": "markdown",
   "id": "32bd9aa8",
   "metadata": {},
   "source": [
    "#### Berikut adalah hasil skor akurasi dan f1"
   ]
  },
  {
   "cell_type": "code",
   "execution_count": 19,
   "id": "784332f8",
   "metadata": {},
   "outputs": [
    {
     "data": {
      "text/html": [
       "<div>\n",
       "<style scoped>\n",
       "    .dataframe tbody tr th:only-of-type {\n",
       "        vertical-align: middle;\n",
       "    }\n",
       "\n",
       "    .dataframe tbody tr th {\n",
       "        vertical-align: top;\n",
       "    }\n",
       "\n",
       "    .dataframe thead tr th {\n",
       "        text-align: left;\n",
       "    }\n",
       "</style>\n",
       "<table border=\"1\" class=\"dataframe\">\n",
       "  <thead>\n",
       "    <tr>\n",
       "      <th></th>\n",
       "      <th colspan=\"2\" halign=\"left\">Breast Cancer</th>\n",
       "      <th colspan=\"2\" halign=\"left\">Play Tennis</th>\n",
       "    </tr>\n",
       "    <tr>\n",
       "      <th></th>\n",
       "      <th>Accuracy</th>\n",
       "      <th>f1</th>\n",
       "      <th>Accuracy</th>\n",
       "      <th>f1</th>\n",
       "    </tr>\n",
       "  </thead>\n",
       "  <tbody>\n",
       "    <tr>\n",
       "      <th>Decision Tree</th>\n",
       "      <td>0.973684</td>\n",
       "      <td>0.973684</td>\n",
       "      <td>0.333333</td>\n",
       "      <td>0.333333</td>\n",
       "    </tr>\n",
       "    <tr>\n",
       "      <th>Id3 Estimator</th>\n",
       "      <td>0.929825</td>\n",
       "      <td>0.929825</td>\n",
       "      <td>0.333333</td>\n",
       "      <td>0.333333</td>\n",
       "    </tr>\n",
       "    <tr>\n",
       "      <th>KMeans</th>\n",
       "      <td>0.868421</td>\n",
       "      <td>0.868421</td>\n",
       "      <td>0.666667</td>\n",
       "      <td>0.666667</td>\n",
       "    </tr>\n",
       "    <tr>\n",
       "      <th>Logistic Regression</th>\n",
       "      <td>0.947368</td>\n",
       "      <td>0.947368</td>\n",
       "      <td>0.333333</td>\n",
       "      <td>0.333333</td>\n",
       "    </tr>\n",
       "    <tr>\n",
       "      <th>Neural Network</th>\n",
       "      <td>0.956140</td>\n",
       "      <td>0.956140</td>\n",
       "      <td>0.333333</td>\n",
       "      <td>0.333333</td>\n",
       "    </tr>\n",
       "    <tr>\n",
       "      <th>SVC</th>\n",
       "      <td>0.921053</td>\n",
       "      <td>0.921053</td>\n",
       "      <td>0.333333</td>\n",
       "      <td>0.333333</td>\n",
       "    </tr>\n",
       "  </tbody>\n",
       "</table>\n",
       "</div>"
      ],
      "text/plain": [
       "                    Breast Cancer           Play Tennis          \n",
       "                         Accuracy        f1    Accuracy        f1\n",
       "Decision Tree            0.973684  0.973684    0.333333  0.333333\n",
       "Id3 Estimator            0.929825  0.929825    0.333333  0.333333\n",
       "KMeans                   0.868421  0.868421    0.666667  0.666667\n",
       "Logistic Regression      0.947368  0.947368    0.333333  0.333333\n",
       "Neural Network           0.956140  0.956140    0.333333  0.333333\n",
       "SVC                      0.921053  0.921053    0.333333  0.333333"
      ]
     },
     "execution_count": 19,
     "metadata": {},
     "output_type": "execute_result"
    }
   ],
   "source": [
    "df_scores"
   ]
  },
  {
   "cell_type": "code",
   "execution_count": null,
   "id": "9abd6942",
   "metadata": {},
   "outputs": [],
   "source": []
  }
 ],
 "metadata": {
  "kernelspec": {
   "display_name": "Python 3 (ipykernel)",
   "language": "python",
   "name": "python3"
  },
  "language_info": {
   "codemirror_mode": {
    "name": "ipython",
    "version": 3
   },
   "file_extension": ".py",
   "mimetype": "text/x-python",
   "name": "python",
   "nbconvert_exporter": "python",
   "pygments_lexer": "ipython3",
   "version": "3.7.9"
  }
 },
 "nbformat": 4,
 "nbformat_minor": 5
}
